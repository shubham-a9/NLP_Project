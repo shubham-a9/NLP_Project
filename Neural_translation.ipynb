{
  "nbformat": 4,
  "nbformat_minor": 0,
  "metadata": {
    "colab": {
      "name": "Neural_translation.ipynb",
      "provenance": [],
      "collapsed_sections": [],
      "include_colab_link": true
    },
    "kernelspec": {
      "name": "python3",
      "display_name": "Python 3"
    },
    "language_info": {
      "name": "python"
    }
  },
  "cells": [
    {
      "cell_type": "markdown",
      "metadata": {
        "id": "view-in-github",
        "colab_type": "text"
      },
      "source": [
        "<a href=\"https://colab.research.google.com/github/shubham-a9/NLP_Project/blob/main/Neural_translation.ipynb\" target=\"_parent\"><img src=\"https://colab.research.google.com/assets/colab-badge.svg\" alt=\"Open In Colab\"/></a>"
      ]
    },
    {
      "cell_type": "code",
      "metadata": {
        "id": "lVgRIXKwmAtS"
      },
      "source": [
        "from keras.layers import Bidirectional, Concatenate, Permute, Dot, Input, LSTM, Multiply\n",
        "from keras.layers import RepeatVector, Dense, Activation, Lambda\n",
        "from keras.optimizers import Adam\n",
        "from keras.utils import to_categorical\n",
        "from keras.models import load_model, Model\n",
        "import keras.backend as K\n",
        "import numpy as np"
      ],
      "execution_count": 1,
      "outputs": []
    },
    {
      "cell_type": "code",
      "metadata": {
        "colab": {
          "base_uri": "https://localhost:8080/"
        },
        "id": "n5E3rvx6maoo",
        "outputId": "41acad7c-c03c-478d-b16b-35807fcd8a90"
      },
      "source": [
        "!pip install Faker\n",
        "\n",
        "from faker import Faker\n",
        "import random\n",
        "from tqdm import tqdm\n",
        "from babel.dates import format_date\n",
        "import matplotlib.pyplot as plt\n",
        "%matplotlib inline\n",
        "\n",
        "fake = Faker()\n",
        "Faker.seed(12345)\n",
        "random.seed(12345)"
      ],
      "execution_count": 2,
      "outputs": [
        {
          "output_type": "stream",
          "text": [
            "Collecting Faker\n",
            "\u001b[?25l  Downloading https://files.pythonhosted.org/packages/6f/dc/266528ca3f7e6c14016832b955adc4313b9c18529a5012e13c42b858c33f/Faker-8.1.1-py3-none-any.whl (1.2MB)\n",
            "\r\u001b[K     |▎                               | 10kB 13.6MB/s eta 0:00:01\r\u001b[K     |▋                               | 20kB 19.4MB/s eta 0:00:01\r\u001b[K     |▉                               | 30kB 23.2MB/s eta 0:00:01\r\u001b[K     |█▏                              | 40kB 23.1MB/s eta 0:00:01\r\u001b[K     |█▍                              | 51kB 25.2MB/s eta 0:00:01\r\u001b[K     |█▊                              | 61kB 19.9MB/s eta 0:00:01\r\u001b[K     |██                              | 71kB 20.2MB/s eta 0:00:01\r\u001b[K     |██▎                             | 81kB 18.6MB/s eta 0:00:01\r\u001b[K     |██▌                             | 92kB 18.3MB/s eta 0:00:01\r\u001b[K     |██▉                             | 102kB 18.0MB/s eta 0:00:01\r\u001b[K     |███                             | 112kB 18.0MB/s eta 0:00:01\r\u001b[K     |███▍                            | 122kB 18.0MB/s eta 0:00:01\r\u001b[K     |███▋                            | 133kB 18.0MB/s eta 0:00:01\r\u001b[K     |████                            | 143kB 18.0MB/s eta 0:00:01\r\u001b[K     |████▏                           | 153kB 18.0MB/s eta 0:00:01\r\u001b[K     |████▌                           | 163kB 18.0MB/s eta 0:00:01\r\u001b[K     |████▉                           | 174kB 18.0MB/s eta 0:00:01\r\u001b[K     |█████                           | 184kB 18.0MB/s eta 0:00:01\r\u001b[K     |█████▍                          | 194kB 18.0MB/s eta 0:00:01\r\u001b[K     |█████▋                          | 204kB 18.0MB/s eta 0:00:01\r\u001b[K     |██████                          | 215kB 18.0MB/s eta 0:00:01\r\u001b[K     |██████▏                         | 225kB 18.0MB/s eta 0:00:01\r\u001b[K     |██████▌                         | 235kB 18.0MB/s eta 0:00:01\r\u001b[K     |██████▊                         | 245kB 18.0MB/s eta 0:00:01\r\u001b[K     |███████                         | 256kB 18.0MB/s eta 0:00:01\r\u001b[K     |███████▎                        | 266kB 18.0MB/s eta 0:00:01\r\u001b[K     |███████▋                        | 276kB 18.0MB/s eta 0:00:01\r\u001b[K     |███████▉                        | 286kB 18.0MB/s eta 0:00:01\r\u001b[K     |████████▏                       | 296kB 18.0MB/s eta 0:00:01\r\u001b[K     |████████▍                       | 307kB 18.0MB/s eta 0:00:01\r\u001b[K     |████████▊                       | 317kB 18.0MB/s eta 0:00:01\r\u001b[K     |█████████                       | 327kB 18.0MB/s eta 0:00:01\r\u001b[K     |█████████▎                      | 337kB 18.0MB/s eta 0:00:01\r\u001b[K     |█████████▋                      | 348kB 18.0MB/s eta 0:00:01\r\u001b[K     |█████████▉                      | 358kB 18.0MB/s eta 0:00:01\r\u001b[K     |██████████▏                     | 368kB 18.0MB/s eta 0:00:01\r\u001b[K     |██████████▍                     | 378kB 18.0MB/s eta 0:00:01\r\u001b[K     |██████████▊                     | 389kB 18.0MB/s eta 0:00:01\r\u001b[K     |███████████                     | 399kB 18.0MB/s eta 0:00:01\r\u001b[K     |███████████▎                    | 409kB 18.0MB/s eta 0:00:01\r\u001b[K     |███████████▌                    | 419kB 18.0MB/s eta 0:00:01\r\u001b[K     |███████████▉                    | 430kB 18.0MB/s eta 0:00:01\r\u001b[K     |████████████                    | 440kB 18.0MB/s eta 0:00:01\r\u001b[K     |████████████▍                   | 450kB 18.0MB/s eta 0:00:01\r\u001b[K     |████████████▋                   | 460kB 18.0MB/s eta 0:00:01\r\u001b[K     |█████████████                   | 471kB 18.0MB/s eta 0:00:01\r\u001b[K     |█████████████▏                  | 481kB 18.0MB/s eta 0:00:01\r\u001b[K     |█████████████▌                  | 491kB 18.0MB/s eta 0:00:01\r\u001b[K     |█████████████▊                  | 501kB 18.0MB/s eta 0:00:01\r\u001b[K     |██████████████                  | 512kB 18.0MB/s eta 0:00:01\r\u001b[K     |██████████████▍                 | 522kB 18.0MB/s eta 0:00:01\r\u001b[K     |██████████████▋                 | 532kB 18.0MB/s eta 0:00:01\r\u001b[K     |███████████████                 | 542kB 18.0MB/s eta 0:00:01\r\u001b[K     |███████████████▏                | 552kB 18.0MB/s eta 0:00:01\r\u001b[K     |███████████████▌                | 563kB 18.0MB/s eta 0:00:01\r\u001b[K     |███████████████▊                | 573kB 18.0MB/s eta 0:00:01\r\u001b[K     |████████████████                | 583kB 18.0MB/s eta 0:00:01\r\u001b[K     |████████████████▎               | 593kB 18.0MB/s eta 0:00:01\r\u001b[K     |████████████████▋               | 604kB 18.0MB/s eta 0:00:01\r\u001b[K     |████████████████▉               | 614kB 18.0MB/s eta 0:00:01\r\u001b[K     |█████████████████▏              | 624kB 18.0MB/s eta 0:00:01\r\u001b[K     |█████████████████▍              | 634kB 18.0MB/s eta 0:00:01\r\u001b[K     |█████████████████▊              | 645kB 18.0MB/s eta 0:00:01\r\u001b[K     |██████████████████              | 655kB 18.0MB/s eta 0:00:01\r\u001b[K     |██████████████████▎             | 665kB 18.0MB/s eta 0:00:01\r\u001b[K     |██████████████████▌             | 675kB 18.0MB/s eta 0:00:01\r\u001b[K     |██████████████████▉             | 686kB 18.0MB/s eta 0:00:01\r\u001b[K     |███████████████████▏            | 696kB 18.0MB/s eta 0:00:01\r\u001b[K     |███████████████████▍            | 706kB 18.0MB/s eta 0:00:01\r\u001b[K     |███████████████████▊            | 716kB 18.0MB/s eta 0:00:01\r\u001b[K     |████████████████████            | 727kB 18.0MB/s eta 0:00:01\r\u001b[K     |████████████████████▎           | 737kB 18.0MB/s eta 0:00:01\r\u001b[K     |████████████████████▌           | 747kB 18.0MB/s eta 0:00:01\r\u001b[K     |████████████████████▉           | 757kB 18.0MB/s eta 0:00:01\r\u001b[K     |█████████████████████           | 768kB 18.0MB/s eta 0:00:01\r\u001b[K     |█████████████████████▍          | 778kB 18.0MB/s eta 0:00:01\r\u001b[K     |█████████████████████▋          | 788kB 18.0MB/s eta 0:00:01\r\u001b[K     |██████████████████████          | 798kB 18.0MB/s eta 0:00:01\r\u001b[K     |██████████████████████▏         | 808kB 18.0MB/s eta 0:00:01\r\u001b[K     |██████████████████████▌         | 819kB 18.0MB/s eta 0:00:01\r\u001b[K     |██████████████████████▊         | 829kB 18.0MB/s eta 0:00:01\r\u001b[K     |███████████████████████         | 839kB 18.0MB/s eta 0:00:01\r\u001b[K     |███████████████████████▎        | 849kB 18.0MB/s eta 0:00:01\r\u001b[K     |███████████████████████▋        | 860kB 18.0MB/s eta 0:00:01\r\u001b[K     |████████████████████████        | 870kB 18.0MB/s eta 0:00:01\r\u001b[K     |████████████████████████▏       | 880kB 18.0MB/s eta 0:00:01\r\u001b[K     |████████████████████████▌       | 890kB 18.0MB/s eta 0:00:01\r\u001b[K     |████████████████████████▊       | 901kB 18.0MB/s eta 0:00:01\r\u001b[K     |█████████████████████████       | 911kB 18.0MB/s eta 0:00:01\r\u001b[K     |█████████████████████████▎      | 921kB 18.0MB/s eta 0:00:01\r\u001b[K     |█████████████████████████▋      | 931kB 18.0MB/s eta 0:00:01\r\u001b[K     |█████████████████████████▉      | 942kB 18.0MB/s eta 0:00:01\r\u001b[K     |██████████████████████████▏     | 952kB 18.0MB/s eta 0:00:01\r\u001b[K     |██████████████████████████▍     | 962kB 18.0MB/s eta 0:00:01\r\u001b[K     |██████████████████████████▊     | 972kB 18.0MB/s eta 0:00:01\r\u001b[K     |███████████████████████████     | 983kB 18.0MB/s eta 0:00:01\r\u001b[K     |███████████████████████████▎    | 993kB 18.0MB/s eta 0:00:01\r\u001b[K     |███████████████████████████▌    | 1.0MB 18.0MB/s eta 0:00:01\r\u001b[K     |███████████████████████████▉    | 1.0MB 18.0MB/s eta 0:00:01\r\u001b[K     |████████████████████████████    | 1.0MB 18.0MB/s eta 0:00:01\r\u001b[K     |████████████████████████████▍   | 1.0MB 18.0MB/s eta 0:00:01\r\u001b[K     |████████████████████████████▊   | 1.0MB 18.0MB/s eta 0:00:01\r\u001b[K     |█████████████████████████████   | 1.1MB 18.0MB/s eta 0:00:01\r\u001b[K     |█████████████████████████████▎  | 1.1MB 18.0MB/s eta 0:00:01\r\u001b[K     |█████████████████████████████▌  | 1.1MB 18.0MB/s eta 0:00:01\r\u001b[K     |█████████████████████████████▉  | 1.1MB 18.0MB/s eta 0:00:01\r\u001b[K     |██████████████████████████████  | 1.1MB 18.0MB/s eta 0:00:01\r\u001b[K     |██████████████████████████████▍ | 1.1MB 18.0MB/s eta 0:00:01\r\u001b[K     |██████████████████████████████▋ | 1.1MB 18.0MB/s eta 0:00:01\r\u001b[K     |███████████████████████████████ | 1.1MB 18.0MB/s eta 0:00:01\r\u001b[K     |███████████████████████████████▏| 1.1MB 18.0MB/s eta 0:00:01\r\u001b[K     |███████████████████████████████▌| 1.1MB 18.0MB/s eta 0:00:01\r\u001b[K     |███████████████████████████████▊| 1.2MB 18.0MB/s eta 0:00:01\r\u001b[K     |████████████████████████████████| 1.2MB 18.0MB/s \n",
            "\u001b[?25hRequirement already satisfied: python-dateutil>=2.4 in /usr/local/lib/python3.7/dist-packages (from Faker) (2.8.1)\n",
            "Requirement already satisfied: text-unidecode==1.3 in /usr/local/lib/python3.7/dist-packages (from Faker) (1.3)\n",
            "Requirement already satisfied: six>=1.5 in /usr/local/lib/python3.7/dist-packages (from python-dateutil>=2.4->Faker) (1.15.0)\n",
            "Installing collected packages: Faker\n",
            "Successfully installed Faker-8.1.1\n"
          ],
          "name": "stdout"
        }
      ]
    },
    {
      "cell_type": "code",
      "metadata": {
        "id": "5rgKWgxUvnn9"
      },
      "source": [
        "# Define format of the data we would like to generate\n",
        "FORMATS = ['short',\n",
        "           'medium',\n",
        "           'long',\n",
        "           'full',\n",
        "           'full',\n",
        "           'full',\n",
        "           'full',\n",
        "           'full',\n",
        "           'full',\n",
        "           'full',\n",
        "           'full',\n",
        "           'full',\n",
        "           'full',\n",
        "           'd MMM YYY', \n",
        "           'd MMMM YYY',\n",
        "           'dd MMM YYY',\n",
        "           'd MMM, YYY',\n",
        "           'd MMMM, YYY',\n",
        "           'dd, MMM YYY',\n",
        "           'd MM YY',\n",
        "           'd MMMM YYY',\n",
        "           'MMMM d YYY',\n",
        "           'MMMM d, YYY',\n",
        "           'dd.MM.YY']\n"
      ],
      "execution_count": 3,
      "outputs": []
    },
    {
      "cell_type": "code",
      "metadata": {
        "id": "k7Em6s5JtY__"
      },
      "source": [
        "def load_dataset(m):\n",
        "    \"\"\"\n",
        "        Loads a dataset with m examples and vocabularies\n",
        "        :m: the number of examples to generate\n",
        "    \"\"\"\n",
        "    \n",
        "    human_vocab = set()\n",
        "    machine_vocab = set()\n",
        "    dataset = []\n",
        "    Tx = 30\n",
        "    \n",
        "\n",
        "    for i in tqdm(range(m)):\n",
        "        h, m, _ = load_date()\n",
        "        if h is not None:\n",
        "            dataset.append((h, m))\n",
        "            human_vocab.update(tuple(h))\n",
        "            machine_vocab.update(tuple(m))\n",
        "    \n",
        "    human = dict(zip(sorted(human_vocab) + ['<unk>', '<pad>'], \n",
        "                     list(range(len(human_vocab) + 2))))\n",
        "    inv_machine = dict(enumerate(sorted(machine_vocab)))\n",
        "    machine = {v:k for k,v in inv_machine.items()}\n",
        " \n",
        "    return dataset, human, machine, inv_machine\n"
      ],
      "execution_count": 4,
      "outputs": []
    },
    {
      "cell_type": "code",
      "metadata": {
        "id": "stQu_k3xtjaY"
      },
      "source": [
        "def load_date():\n",
        "    \"\"\"\n",
        "        Loads some fake dates \n",
        "        :returns: tuple containing human readable string, machine readable string, and date object\n",
        "    \"\"\"\n",
        "    dt = fake.date_object()\n",
        "\n",
        "    try:\n",
        "        human_readable = format_date(dt, format=random.choice(FORMATS),  locale='en_US')\n",
        "        human_readable = human_readable.lower()\n",
        "        human_readable = human_readable.replace(',','')\n",
        "        machine_readable = dt.isoformat()\n",
        "        \n",
        "    except AttributeError as e:\n",
        "        return None, None, None\n",
        "\n",
        "    return human_readable, machine_readable, dt"
      ],
      "execution_count": 5,
      "outputs": []
    },
    {
      "cell_type": "code",
      "metadata": {
        "id": "N-P6pQZrwT8i"
      },
      "source": [
        "def preprocess_data(dataset, human_vocab, machine_vocab, Tx, Ty):\n",
        "    \n",
        "    X, Y = zip(*dataset)\n",
        "    \n",
        "    X = np.array([string_to_int(i, Tx, human_vocab) for i in X])\n",
        "    Y = [string_to_int(t, Ty, machine_vocab) for t in Y]\n",
        "    \n",
        "    Xoh = np.array(list(map(lambda x: to_categorical(x, num_classes=len(human_vocab)), X)))\n",
        "    Yoh = np.array(list(map(lambda x: to_categorical(x, num_classes=len(machine_vocab)), Y)))\n",
        "\n",
        "    return X, np.array(Y), Xoh, Yoh"
      ],
      "execution_count": 6,
      "outputs": []
    },
    {
      "cell_type": "code",
      "metadata": {
        "id": "5i80V7R92gdg"
      },
      "source": [
        "def string_to_int(string, length, vocab):\n",
        "    \"\"\"\n",
        "    Converts all strings in the vocabulary into a list of integers representing the positions of the\n",
        "    input string's characters in the \"vocab\"\n",
        "    \n",
        "    Arguments:\n",
        "    string -- input string, e.g. 'Wed 10 Jul 2007'\n",
        "    length -- the number of time steps you'd like, determines if the output will be padded or cut\n",
        "    vocab -- vocabulary, dictionary used to index every character of your \"string\"\n",
        "    \n",
        "    Returns:\n",
        "    rep -- list of integers (or '<unk>') (size = length) representing the position of the string's character in the vocabulary\n",
        "    \"\"\"\n",
        "    \n",
        "    #make lower to standardize\n",
        "    string = string.lower()\n",
        "    string = string.replace(',','')\n",
        "    \n",
        "    if len(string) > length:\n",
        "        string = string[:length]\n",
        "        \n",
        "    rep = list(map(lambda x: vocab.get(x, '<unk>'), string))\n",
        "    \n",
        "    if len(string) < length:\n",
        "        rep += [vocab['<pad>']] * (length - len(string))\n",
        "    \n",
        "    #print (rep)\n",
        "    return rep\n",
        "\n",
        "\n",
        "def int_to_string(ints, inv_vocab):\n",
        "    \"\"\"\n",
        "    Output a machine readable list of characters based on a list of indexes in the machine's vocabulary\n",
        "    \n",
        "    Arguments:\n",
        "    ints -- list of integers representing indexes in the machine's vocabulary\n",
        "    inv_vocab -- dictionary mapping machine readable indexes to machine readable characters \n",
        "    \n",
        "    Returns:\n",
        "    l -- list of characters corresponding to the indexes of ints thanks to the inv_vocab mapping\n",
        "    \"\"\"\n",
        "    \n",
        "    l = [inv_vocab[i] for i in ints]\n",
        "    return l"
      ],
      "execution_count": 7,
      "outputs": []
    },
    {
      "cell_type": "code",
      "metadata": {
        "id": "hzqZV4qE2nLf"
      },
      "source": [
        "EXAMPLES = ['3 May 1979', '5 April 09', '21th of August 2016', 'Tue 10 Jul 2007', 'Saturday May 9 2018', 'March 3 2001', 'March 3rd 2001', '1 March 2001']\n",
        "\n",
        "def run_example(model, input_vocabulary, inv_output_vocabulary, text):\n",
        "    encoded = string_to_int(text, Tx, input_vocabulary)\n",
        "    prediction = model.predict(np.array([encoded]))\n",
        "    prediction = np.argmax(prediction[0], axis=-1)\n",
        "    return int_to_string(prediction, inv_output_vocabulary)\n",
        "\n",
        "def run_examples(model, input_vocabulary, inv_output_vocabulary, examples=EXAMPLES):\n",
        "    predicted = []\n",
        "    for example in examples:\n",
        "        predicted.append(''.join(run_example(model, input_vocabulary, inv_output_vocabulary, example)))\n",
        "        print('input:', example)\n",
        "        print('output:', predicted[-1])\n",
        "    return predicted"
      ],
      "execution_count": 8,
      "outputs": []
    },
    {
      "cell_type": "code",
      "metadata": {
        "id": "Hc12wZ_f2wff"
      },
      "source": [
        "def softmax(x, axis=1):\n",
        "    \"\"\"Softmax activation function.\n",
        "    # Arguments\n",
        "        x : Tensor.\n",
        "        axis: Integer, axis along which the softmax normalization is applied.\n",
        "    # Returns\n",
        "        Tensor, output of softmax transformation.\n",
        "    # Raises\n",
        "        ValueError: In case `dim(x) == 1`.\n",
        "    \"\"\"\n",
        "    ndim = K.ndim(x)\n",
        "    if ndim == 2:\n",
        "        return K.softmax(x)\n",
        "    elif ndim > 2:\n",
        "        e = K.exp(x - K.max(x, axis=axis, keepdims=True))\n",
        "        s = K.sum(e, axis=axis, keepdims=True)\n",
        "        return e / s\n",
        "    else:\n",
        "        raise ValueError('Cannot apply softmax to a tensor that is 1D')\n",
        "        \n",
        "\n",
        "def plot_attention_map(model, input_vocabulary, inv_output_vocabulary, text, n_s = 128, num = 6, Tx = 30, Ty = 10):\n",
        "    \"\"\"\n",
        "    Plot the attention map.\n",
        "  \n",
        "    \"\"\"\n",
        "    attention_map = np.zeros((10, 30))\n",
        "    Ty, Tx = attention_map.shape\n",
        "    \n",
        "    s0 = np.zeros((1, n_s))\n",
        "    c0 = np.zeros((1, n_s))\n",
        "    layer = model.layers[num]\n",
        "\n",
        "    encoded = np.array(string_to_int(text, Tx, input_vocabulary)).reshape((1, 30))\n",
        "    encoded = np.array(list(map(lambda x: to_categorical(x, num_classes=len(input_vocabulary)), encoded)))\n",
        "\n",
        "    f = K.function(model.inputs, [layer.get_output_at(t) for t in range(Ty)])\n",
        "    r = f([encoded, s0, c0])\n",
        "    \n",
        "    for t in range(Ty):\n",
        "        for t_prime in range(Tx):\n",
        "            attention_map[t][t_prime] = r[t][0,t_prime,0]\n",
        "\n",
        "    # Normalize attention map\n",
        "#     row_max = attention_map.max(axis=1)\n",
        "#     attention_map = attention_map / row_max[:, None]\n",
        "\n",
        "    prediction = model.predict([encoded, s0, c0])\n",
        "    \n",
        "    predicted_text = []\n",
        "    for i in range(len(prediction)):\n",
        "        predicted_text.append(int(np.argmax(prediction[i], axis=1)))\n",
        "        \n",
        "    predicted_text = list(predicted_text)\n",
        "    predicted_text = int_to_string(predicted_text, inv_output_vocabulary)\n",
        "    text_ = list(text)\n",
        "    \n",
        "    # get the lengths of the string\n",
        "    input_length = len(text)\n",
        "    output_length = Ty\n",
        "    \n",
        "    # Plot the attention_map\n",
        "    plt.clf()\n",
        "    f = plt.figure(figsize=(8, 8.5))\n",
        "    ax = f.add_subplot(1, 1, 1)\n",
        "\n",
        "    # add image\n",
        "    i = ax.imshow(attention_map, interpolation='nearest', cmap='Blues')\n",
        "\n",
        "    # add colorbar\n",
        "    cbaxes = f.add_axes([0.2, 0, 0.6, 0.03])\n",
        "    cbar = f.colorbar(i, cax=cbaxes, orientation='horizontal')\n",
        "    cbar.ax.set_xlabel('Alpha value (Probability output of the \"softmax\")', labelpad=2)\n",
        "\n",
        "    # add labels\n",
        "    ax.set_yticks(range(output_length))\n",
        "    ax.set_yticklabels(predicted_text[:output_length])\n",
        "\n",
        "    ax.set_xticks(range(input_length))\n",
        "    ax.set_xticklabels(text_[:input_length], rotation=45)\n",
        "\n",
        "    ax.set_xlabel('Input Sequence')\n",
        "    ax.set_ylabel('Output Sequence')\n",
        "\n",
        "    # add grid and legend\n",
        "    ax.grid()\n",
        "\n",
        "    #f.show()\n",
        "    \n",
        "    return attention_map"
      ],
      "execution_count": 9,
      "outputs": []
    },
    {
      "cell_type": "code",
      "metadata": {
        "colab": {
          "base_uri": "https://localhost:8080/"
        },
        "id": "eOhFdG8Lp5Yr",
        "outputId": "0e342936-e42f-41a3-b3e1-ca2546832bb4"
      },
      "source": [
        "m = 10000\n",
        "dataset, human_vocab, machine_vocab, inv_machine_vocab = load_dataset(m)\n",
        "dataset[:10]\n",
        "human_vocab\n",
        "machine_vocab"
      ],
      "execution_count": 10,
      "outputs": [
        {
          "output_type": "stream",
          "text": [
            "100%|██████████| 10000/10000 [00:00<00:00, 15053.62it/s]\n"
          ],
          "name": "stderr"
        },
        {
          "output_type": "execute_result",
          "data": {
            "text/plain": [
              "{'-': 0,\n",
              " '0': 1,\n",
              " '1': 2,\n",
              " '2': 3,\n",
              " '3': 4,\n",
              " '4': 5,\n",
              " '5': 6,\n",
              " '6': 7,\n",
              " '7': 8,\n",
              " '8': 9,\n",
              " '9': 10}"
            ]
          },
          "metadata": {
            "tags": []
          },
          "execution_count": 10
        }
      ]
    },
    {
      "cell_type": "code",
      "metadata": {
        "id": "0ZGWprQJs3xd",
        "colab": {
          "base_uri": "https://localhost:8080/"
        },
        "outputId": "74f3aabb-a1b8-4307-afc3-4958cb495898"
      },
      "source": [
        "Tx = 30\n",
        "Ty = 10\n",
        "len(human_vocab)\n",
        "\n",
        "X, Y, Xoh, Yoh = preprocess_data(dataset, human_vocab, machine_vocab, Tx, Ty)\n",
        "\n",
        "print(\"X.shape:\", X.shape)\n",
        "print(\"Y.shape:\", Y.shape)\n",
        "print(\"Xoh.shape:\", Xoh.shape)\n",
        "print(\"Yoh.shape:\", Yoh.shape)\n",
        "\n",
        "index = 0\n",
        "print(\"Source date:\", dataset[index][0])\n",
        "print(\"Target date:\", dataset[index][1])\n",
        "print()\n",
        "print(\"Source after preprocessing (indices):\", X[index])\n",
        "print(\"Target after preprocessing (indices):\", Y[index])\n",
        "print()\n",
        "print(\"Source after preprocessing (one-hot):\", Xoh[index])\n",
        "print(\"Target after preprocessing (one-hot):\", Yoh[index])\n"
      ],
      "execution_count": 11,
      "outputs": [
        {
          "output_type": "stream",
          "text": [
            "X.shape: (10000, 30)\n",
            "Y.shape: (10000, 10)\n",
            "Xoh.shape: (10000, 30, 37)\n",
            "Yoh.shape: (10000, 10, 11)\n",
            "Source date: 9 may 1998\n",
            "Target date: 1998-05-09\n",
            "\n",
            "Source after preprocessing (indices): [12  0 24 13 34  0  4 12 12 11 36 36 36 36 36 36 36 36 36 36 36 36 36 36\n",
            " 36 36 36 36 36 36]\n",
            "Target after preprocessing (indices): [ 2 10 10  9  0  1  6  0  1 10]\n",
            "\n",
            "Source after preprocessing (one-hot): [[0. 0. 0. ... 0. 0. 0.]\n",
            " [1. 0. 0. ... 0. 0. 0.]\n",
            " [0. 0. 0. ... 0. 0. 0.]\n",
            " ...\n",
            " [0. 0. 0. ... 0. 0. 1.]\n",
            " [0. 0. 0. ... 0. 0. 1.]\n",
            " [0. 0. 0. ... 0. 0. 1.]]\n",
            "Target after preprocessing (one-hot): [[0. 0. 1. 0. 0. 0. 0. 0. 0. 0. 0.]\n",
            " [0. 0. 0. 0. 0. 0. 0. 0. 0. 0. 1.]\n",
            " [0. 0. 0. 0. 0. 0. 0. 0. 0. 0. 1.]\n",
            " [0. 0. 0. 0. 0. 0. 0. 0. 0. 1. 0.]\n",
            " [1. 0. 0. 0. 0. 0. 0. 0. 0. 0. 0.]\n",
            " [0. 1. 0. 0. 0. 0. 0. 0. 0. 0. 0.]\n",
            " [0. 0. 0. 0. 0. 0. 1. 0. 0. 0. 0.]\n",
            " [1. 0. 0. 0. 0. 0. 0. 0. 0. 0. 0.]\n",
            " [0. 1. 0. 0. 0. 0. 0. 0. 0. 0. 0.]\n",
            " [0. 0. 0. 0. 0. 0. 0. 0. 0. 0. 1.]]\n"
          ],
          "name": "stdout"
        }
      ]
    },
    {
      "cell_type": "code",
      "metadata": {
        "id": "-TpeCgb03GBw"
      },
      "source": [
        "repeator = RepeatVector(Tx)\n",
        "concatenator = Concatenate(axis=-1)\n",
        "densor1 = Dense(10, activation = \"tanh\")\n",
        "densor2 = Dense(1, activation = \"relu\")\n",
        "activator = Activation(softmax, name='attention_weights') # We are using a custom softmax(axis = 1) loaded in this notebook\n",
        "dotor = Dot(axes = 1)\n"
      ],
      "execution_count": 12,
      "outputs": []
    },
    {
      "cell_type": "code",
      "metadata": {
        "id": "sC0Qmc3h3UME"
      },
      "source": [
        "def one_step_attention(a, s_prev):\n",
        "    s_prev = repeator(s_prev)\n",
        "    concat = concatenator([a, s_prev])\n",
        "    e = densor1(concat)\n",
        "    energies = densor2(e)\n",
        "    alphas = activator(energies)\n",
        "    context = dotor([alphas, a])\n",
        "    return context"
      ],
      "execution_count": 13,
      "outputs": []
    },
    {
      "cell_type": "code",
      "metadata": {
        "colab": {
          "base_uri": "https://localhost:8080/"
        },
        "id": "n8tp_Goq3diL",
        "outputId": "379ff651-7035-4931-a9bf-0c4e1cb2060e"
      },
      "source": [
        "n_a = 32\n",
        "n_s = 64\n",
        "post_activation_LSTM_cell = LSTM(n_s, return_state = True)\n",
        "output_layer = Dense(len(machine_vocab), activation=softmax)\n",
        "\n",
        "def model(Tx, Ty, n_a, n_s, human_vocab_size, machine_vocab_size):\n",
        "    X = Input(shape=(Tx, human_vocab_size))\n",
        "    s0 = Input(shape=(n_s,), name='s0')\n",
        "    c0 = Input(shape=(n_s,), name='c0')\n",
        "    s = s0\n",
        "    c = c0\n",
        "    outputs = []\n",
        "    a = Bidirectional(LSTM(n_a, return_sequences=True))(X)\n",
        "    for t in range(Ty):\n",
        "        context = one_step_attention(a, s)\n",
        "        s, _, c = post_activation_LSTM_cell(inputs = context, initial_state= [s, c])\n",
        "        out = output_layer(s)\n",
        "        outputs.append(out)\n",
        "    model = Model(inputs = [X, s0, c0], outputs = outputs)\n",
        "    return model\n",
        "\n",
        "model = model(Tx, Ty, n_a, n_s, len(human_vocab), len(machine_vocab))\n",
        "\n",
        "model.summary()"
      ],
      "execution_count": 14,
      "outputs": [
        {
          "output_type": "stream",
          "text": [
            "Model: \"model\"\n",
            "__________________________________________________________________________________________________\n",
            "Layer (type)                    Output Shape         Param #     Connected to                     \n",
            "==================================================================================================\n",
            "input_1 (InputLayer)            [(None, 30, 37)]     0                                            \n",
            "__________________________________________________________________________________________________\n",
            "s0 (InputLayer)                 [(None, 64)]         0                                            \n",
            "__________________________________________________________________________________________________\n",
            "bidirectional (Bidirectional)   (None, 30, 64)       17920       input_1[0][0]                    \n",
            "__________________________________________________________________________________________________\n",
            "repeat_vector (RepeatVector)    (None, 30, 64)       0           s0[0][0]                         \n",
            "                                                                 lstm[0][0]                       \n",
            "                                                                 lstm[1][0]                       \n",
            "                                                                 lstm[2][0]                       \n",
            "                                                                 lstm[3][0]                       \n",
            "                                                                 lstm[4][0]                       \n",
            "                                                                 lstm[5][0]                       \n",
            "                                                                 lstm[6][0]                       \n",
            "                                                                 lstm[7][0]                       \n",
            "                                                                 lstm[8][0]                       \n",
            "__________________________________________________________________________________________________\n",
            "concatenate (Concatenate)       (None, 30, 128)      0           bidirectional[0][0]              \n",
            "                                                                 repeat_vector[0][0]              \n",
            "                                                                 bidirectional[0][0]              \n",
            "                                                                 repeat_vector[1][0]              \n",
            "                                                                 bidirectional[0][0]              \n",
            "                                                                 repeat_vector[2][0]              \n",
            "                                                                 bidirectional[0][0]              \n",
            "                                                                 repeat_vector[3][0]              \n",
            "                                                                 bidirectional[0][0]              \n",
            "                                                                 repeat_vector[4][0]              \n",
            "                                                                 bidirectional[0][0]              \n",
            "                                                                 repeat_vector[5][0]              \n",
            "                                                                 bidirectional[0][0]              \n",
            "                                                                 repeat_vector[6][0]              \n",
            "                                                                 bidirectional[0][0]              \n",
            "                                                                 repeat_vector[7][0]              \n",
            "                                                                 bidirectional[0][0]              \n",
            "                                                                 repeat_vector[8][0]              \n",
            "                                                                 bidirectional[0][0]              \n",
            "                                                                 repeat_vector[9][0]              \n",
            "__________________________________________________________________________________________________\n",
            "dense (Dense)                   (None, 30, 10)       1290        concatenate[0][0]                \n",
            "                                                                 concatenate[1][0]                \n",
            "                                                                 concatenate[2][0]                \n",
            "                                                                 concatenate[3][0]                \n",
            "                                                                 concatenate[4][0]                \n",
            "                                                                 concatenate[5][0]                \n",
            "                                                                 concatenate[6][0]                \n",
            "                                                                 concatenate[7][0]                \n",
            "                                                                 concatenate[8][0]                \n",
            "                                                                 concatenate[9][0]                \n",
            "__________________________________________________________________________________________________\n",
            "dense_1 (Dense)                 (None, 30, 1)        11          dense[0][0]                      \n",
            "                                                                 dense[1][0]                      \n",
            "                                                                 dense[2][0]                      \n",
            "                                                                 dense[3][0]                      \n",
            "                                                                 dense[4][0]                      \n",
            "                                                                 dense[5][0]                      \n",
            "                                                                 dense[6][0]                      \n",
            "                                                                 dense[7][0]                      \n",
            "                                                                 dense[8][0]                      \n",
            "                                                                 dense[9][0]                      \n",
            "__________________________________________________________________________________________________\n",
            "attention_weights (Activation)  (None, 30, 1)        0           dense_1[0][0]                    \n",
            "                                                                 dense_1[1][0]                    \n",
            "                                                                 dense_1[2][0]                    \n",
            "                                                                 dense_1[3][0]                    \n",
            "                                                                 dense_1[4][0]                    \n",
            "                                                                 dense_1[5][0]                    \n",
            "                                                                 dense_1[6][0]                    \n",
            "                                                                 dense_1[7][0]                    \n",
            "                                                                 dense_1[8][0]                    \n",
            "                                                                 dense_1[9][0]                    \n",
            "__________________________________________________________________________________________________\n",
            "dot (Dot)                       (None, 1, 64)        0           attention_weights[0][0]          \n",
            "                                                                 bidirectional[0][0]              \n",
            "                                                                 attention_weights[1][0]          \n",
            "                                                                 bidirectional[0][0]              \n",
            "                                                                 attention_weights[2][0]          \n",
            "                                                                 bidirectional[0][0]              \n",
            "                                                                 attention_weights[3][0]          \n",
            "                                                                 bidirectional[0][0]              \n",
            "                                                                 attention_weights[4][0]          \n",
            "                                                                 bidirectional[0][0]              \n",
            "                                                                 attention_weights[5][0]          \n",
            "                                                                 bidirectional[0][0]              \n",
            "                                                                 attention_weights[6][0]          \n",
            "                                                                 bidirectional[0][0]              \n",
            "                                                                 attention_weights[7][0]          \n",
            "                                                                 bidirectional[0][0]              \n",
            "                                                                 attention_weights[8][0]          \n",
            "                                                                 bidirectional[0][0]              \n",
            "                                                                 attention_weights[9][0]          \n",
            "                                                                 bidirectional[0][0]              \n",
            "__________________________________________________________________________________________________\n",
            "c0 (InputLayer)                 [(None, 64)]         0                                            \n",
            "__________________________________________________________________________________________________\n",
            "lstm (LSTM)                     [(None, 64), (None,  33024       dot[0][0]                        \n",
            "                                                                 s0[0][0]                         \n",
            "                                                                 c0[0][0]                         \n",
            "                                                                 dot[1][0]                        \n",
            "                                                                 lstm[0][0]                       \n",
            "                                                                 lstm[0][2]                       \n",
            "                                                                 dot[2][0]                        \n",
            "                                                                 lstm[1][0]                       \n",
            "                                                                 lstm[1][2]                       \n",
            "                                                                 dot[3][0]                        \n",
            "                                                                 lstm[2][0]                       \n",
            "                                                                 lstm[2][2]                       \n",
            "                                                                 dot[4][0]                        \n",
            "                                                                 lstm[3][0]                       \n",
            "                                                                 lstm[3][2]                       \n",
            "                                                                 dot[5][0]                        \n",
            "                                                                 lstm[4][0]                       \n",
            "                                                                 lstm[4][2]                       \n",
            "                                                                 dot[6][0]                        \n",
            "                                                                 lstm[5][0]                       \n",
            "                                                                 lstm[5][2]                       \n",
            "                                                                 dot[7][0]                        \n",
            "                                                                 lstm[6][0]                       \n",
            "                                                                 lstm[6][2]                       \n",
            "                                                                 dot[8][0]                        \n",
            "                                                                 lstm[7][0]                       \n",
            "                                                                 lstm[7][2]                       \n",
            "                                                                 dot[9][0]                        \n",
            "                                                                 lstm[8][0]                       \n",
            "                                                                 lstm[8][2]                       \n",
            "__________________________________________________________________________________________________\n",
            "dense_2 (Dense)                 (None, 11)           715         lstm[0][0]                       \n",
            "                                                                 lstm[1][0]                       \n",
            "                                                                 lstm[2][0]                       \n",
            "                                                                 lstm[3][0]                       \n",
            "                                                                 lstm[4][0]                       \n",
            "                                                                 lstm[5][0]                       \n",
            "                                                                 lstm[6][0]                       \n",
            "                                                                 lstm[7][0]                       \n",
            "                                                                 lstm[8][0]                       \n",
            "                                                                 lstm[9][0]                       \n",
            "==================================================================================================\n",
            "Total params: 52,960\n",
            "Trainable params: 52,960\n",
            "Non-trainable params: 0\n",
            "__________________________________________________________________________________________________\n"
          ],
          "name": "stdout"
        }
      ]
    },
    {
      "cell_type": "code",
      "metadata": {
        "id": "M73at4UGgEx5"
      },
      "source": [
        "from keras import optimizers\n",
        "\n",
        "opt = optimizers.Adam(lr=0.005, beta_1=0.9, beta_2=0.999, epsilon=None, decay=0.001)\n",
        "model.compile(loss='categorical_crossentropy', optimizer='adam', metrics=['accuracy'])\n",
        "### END CODE HERE ###"
      ],
      "execution_count": 15,
      "outputs": []
    },
    {
      "cell_type": "code",
      "metadata": {
        "id": "wA51UaiMIsCa"
      },
      "source": [
        "s0 = np.zeros((m, n_s))\n",
        "c0 = np.zeros((m, n_s))\n",
        "outputs = list(Yoh.swapaxes(0,1))"
      ],
      "execution_count": 16,
      "outputs": []
    },
    {
      "cell_type": "code",
      "metadata": {
        "id": "UABHDhby3k16",
        "colab": {
          "base_uri": "https://localhost:8080/"
        },
        "outputId": "24a917f6-cb0b-4c87-815a-f98dff45184e"
      },
      "source": [
        "model.fit([Xoh, s0, c0], outputs, epochs=1, batch_size=100)"
      ],
      "execution_count": 17,
      "outputs": [
        {
          "output_type": "stream",
          "text": [
            "100/100 [==============================] - 25s 69ms/step - loss: 21.9383 - dense_2_loss: 2.2843 - dense_2_1_loss: 2.0210 - dense_2_2_loss: 2.3017 - dense_2_3_loss: 2.6242 - dense_2_4_loss: 1.6902 - dense_2_5_loss: 1.9205 - dense_2_6_loss: 2.6418 - dense_2_7_loss: 1.6181 - dense_2_8_loss: 2.1173 - dense_2_9_loss: 2.7191 - dense_2_accuracy: 0.0038 - dense_2_1_accuracy: 0.2529 - dense_2_2_accuracy: 0.0916 - dense_2_3_accuracy: 0.0347 - dense_2_4_accuracy: 0.9246 - dense_2_5_accuracy: 0.0102 - dense_2_6_accuracy: 0.0056 - dense_2_7_accuracy: 0.9539 - dense_2_8_accuracy: 0.0098 - dense_2_9_accuracy: 0.0170\n"
          ],
          "name": "stdout"
        },
        {
          "output_type": "execute_result",
          "data": {
            "text/plain": [
              "<tensorflow.python.keras.callbacks.History at 0x7f293fabe1d0>"
            ]
          },
          "metadata": {
            "tags": []
          },
          "execution_count": 17
        }
      ]
    },
    {
      "cell_type": "code",
      "metadata": {
        "colab": {
          "base_uri": "https://localhost:8080/",
          "height": 1000
        },
        "id": "kS7KGSoQ3xZZ",
        "outputId": "a8421b8b-a856-40cb-8b48-ff8bc0718fc6"
      },
      "source": [
        "model.summary()  \n",
        "\n",
        "attention_map = plot_attention_map(model, human_vocab, inv_machine_vocab, \"Tuesday 09 Oct 1993\", num = 7, n_s = 64)\n"
      ],
      "execution_count": 19,
      "outputs": [
        {
          "output_type": "stream",
          "text": [
            "Model: \"model\"\n",
            "__________________________________________________________________________________________________\n",
            "Layer (type)                    Output Shape         Param #     Connected to                     \n",
            "==================================================================================================\n",
            "input_1 (InputLayer)            [(None, 30, 37)]     0                                            \n",
            "__________________________________________________________________________________________________\n",
            "s0 (InputLayer)                 [(None, 64)]         0                                            \n",
            "__________________________________________________________________________________________________\n",
            "bidirectional (Bidirectional)   (None, 30, 64)       17920       input_1[0][0]                    \n",
            "__________________________________________________________________________________________________\n",
            "repeat_vector (RepeatVector)    (None, 30, 64)       0           s0[0][0]                         \n",
            "                                                                 lstm[0][0]                       \n",
            "                                                                 lstm[1][0]                       \n",
            "                                                                 lstm[2][0]                       \n",
            "                                                                 lstm[3][0]                       \n",
            "                                                                 lstm[4][0]                       \n",
            "                                                                 lstm[5][0]                       \n",
            "                                                                 lstm[6][0]                       \n",
            "                                                                 lstm[7][0]                       \n",
            "                                                                 lstm[8][0]                       \n",
            "__________________________________________________________________________________________________\n",
            "concatenate (Concatenate)       (None, 30, 128)      0           bidirectional[0][0]              \n",
            "                                                                 repeat_vector[0][0]              \n",
            "                                                                 bidirectional[0][0]              \n",
            "                                                                 repeat_vector[1][0]              \n",
            "                                                                 bidirectional[0][0]              \n",
            "                                                                 repeat_vector[2][0]              \n",
            "                                                                 bidirectional[0][0]              \n",
            "                                                                 repeat_vector[3][0]              \n",
            "                                                                 bidirectional[0][0]              \n",
            "                                                                 repeat_vector[4][0]              \n",
            "                                                                 bidirectional[0][0]              \n",
            "                                                                 repeat_vector[5][0]              \n",
            "                                                                 bidirectional[0][0]              \n",
            "                                                                 repeat_vector[6][0]              \n",
            "                                                                 bidirectional[0][0]              \n",
            "                                                                 repeat_vector[7][0]              \n",
            "                                                                 bidirectional[0][0]              \n",
            "                                                                 repeat_vector[8][0]              \n",
            "                                                                 bidirectional[0][0]              \n",
            "                                                                 repeat_vector[9][0]              \n",
            "__________________________________________________________________________________________________\n",
            "dense (Dense)                   (None, 30, 10)       1290        concatenate[0][0]                \n",
            "                                                                 concatenate[1][0]                \n",
            "                                                                 concatenate[2][0]                \n",
            "                                                                 concatenate[3][0]                \n",
            "                                                                 concatenate[4][0]                \n",
            "                                                                 concatenate[5][0]                \n",
            "                                                                 concatenate[6][0]                \n",
            "                                                                 concatenate[7][0]                \n",
            "                                                                 concatenate[8][0]                \n",
            "                                                                 concatenate[9][0]                \n",
            "__________________________________________________________________________________________________\n",
            "dense_1 (Dense)                 (None, 30, 1)        11          dense[0][0]                      \n",
            "                                                                 dense[1][0]                      \n",
            "                                                                 dense[2][0]                      \n",
            "                                                                 dense[3][0]                      \n",
            "                                                                 dense[4][0]                      \n",
            "                                                                 dense[5][0]                      \n",
            "                                                                 dense[6][0]                      \n",
            "                                                                 dense[7][0]                      \n",
            "                                                                 dense[8][0]                      \n",
            "                                                                 dense[9][0]                      \n",
            "__________________________________________________________________________________________________\n",
            "attention_weights (Activation)  (None, 30, 1)        0           dense_1[0][0]                    \n",
            "                                                                 dense_1[1][0]                    \n",
            "                                                                 dense_1[2][0]                    \n",
            "                                                                 dense_1[3][0]                    \n",
            "                                                                 dense_1[4][0]                    \n",
            "                                                                 dense_1[5][0]                    \n",
            "                                                                 dense_1[6][0]                    \n",
            "                                                                 dense_1[7][0]                    \n",
            "                                                                 dense_1[8][0]                    \n",
            "                                                                 dense_1[9][0]                    \n",
            "__________________________________________________________________________________________________\n",
            "dot (Dot)                       (None, 1, 64)        0           attention_weights[0][0]          \n",
            "                                                                 bidirectional[0][0]              \n",
            "                                                                 attention_weights[1][0]          \n",
            "                                                                 bidirectional[0][0]              \n",
            "                                                                 attention_weights[2][0]          \n",
            "                                                                 bidirectional[0][0]              \n",
            "                                                                 attention_weights[3][0]          \n",
            "                                                                 bidirectional[0][0]              \n",
            "                                                                 attention_weights[4][0]          \n",
            "                                                                 bidirectional[0][0]              \n",
            "                                                                 attention_weights[5][0]          \n",
            "                                                                 bidirectional[0][0]              \n",
            "                                                                 attention_weights[6][0]          \n",
            "                                                                 bidirectional[0][0]              \n",
            "                                                                 attention_weights[7][0]          \n",
            "                                                                 bidirectional[0][0]              \n",
            "                                                                 attention_weights[8][0]          \n",
            "                                                                 bidirectional[0][0]              \n",
            "                                                                 attention_weights[9][0]          \n",
            "                                                                 bidirectional[0][0]              \n",
            "__________________________________________________________________________________________________\n",
            "c0 (InputLayer)                 [(None, 64)]         0                                            \n",
            "__________________________________________________________________________________________________\n",
            "lstm (LSTM)                     [(None, 64), (None,  33024       dot[0][0]                        \n",
            "                                                                 s0[0][0]                         \n",
            "                                                                 c0[0][0]                         \n",
            "                                                                 dot[1][0]                        \n",
            "                                                                 lstm[0][0]                       \n",
            "                                                                 lstm[0][2]                       \n",
            "                                                                 dot[2][0]                        \n",
            "                                                                 lstm[1][0]                       \n",
            "                                                                 lstm[1][2]                       \n",
            "                                                                 dot[3][0]                        \n",
            "                                                                 lstm[2][0]                       \n",
            "                                                                 lstm[2][2]                       \n",
            "                                                                 dot[4][0]                        \n",
            "                                                                 lstm[3][0]                       \n",
            "                                                                 lstm[3][2]                       \n",
            "                                                                 dot[5][0]                        \n",
            "                                                                 lstm[4][0]                       \n",
            "                                                                 lstm[4][2]                       \n",
            "                                                                 dot[6][0]                        \n",
            "                                                                 lstm[5][0]                       \n",
            "                                                                 lstm[5][2]                       \n",
            "                                                                 dot[7][0]                        \n",
            "                                                                 lstm[6][0]                       \n",
            "                                                                 lstm[6][2]                       \n",
            "                                                                 dot[8][0]                        \n",
            "                                                                 lstm[7][0]                       \n",
            "                                                                 lstm[7][2]                       \n",
            "                                                                 dot[9][0]                        \n",
            "                                                                 lstm[8][0]                       \n",
            "                                                                 lstm[8][2]                       \n",
            "__________________________________________________________________________________________________\n",
            "dense_2 (Dense)                 (None, 11)           715         lstm[0][0]                       \n",
            "                                                                 lstm[1][0]                       \n",
            "                                                                 lstm[2][0]                       \n",
            "                                                                 lstm[3][0]                       \n",
            "                                                                 lstm[4][0]                       \n",
            "                                                                 lstm[5][0]                       \n",
            "                                                                 lstm[6][0]                       \n",
            "                                                                 lstm[7][0]                       \n",
            "                                                                 lstm[8][0]                       \n",
            "                                                                 lstm[9][0]                       \n",
            "==================================================================================================\n",
            "Total params: 52,960\n",
            "Trainable params: 52,960\n",
            "Non-trainable params: 0\n",
            "__________________________________________________________________________________________________\n"
          ],
          "name": "stdout"
        },
        {
          "output_type": "display_data",
          "data": {
            "text/plain": [
              "<Figure size 432x288 with 0 Axes>"
            ]
          },
          "metadata": {
            "tags": []
          }
        },
        {
          "output_type": "display_data",
          "data": {
            "image/png": "[encoded data removed]",
            "text/plain": [
              "<Figure size 576x612 with 2 Axes>"
            ]
          },
          "metadata": {
            "tags": [],
            "needs_background": "light"
          }
        }
      ]
    }
  ]
}